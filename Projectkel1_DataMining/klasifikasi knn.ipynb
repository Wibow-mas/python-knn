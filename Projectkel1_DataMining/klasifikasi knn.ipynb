{
 "cells": [
  {
   "cell_type": "code",
   "execution_count": null,
   "metadata": {
    "colab": {
     "base_uri": "https://localhost:8080/",
     "height": 73
    },
    "id": "i5vsnsWY8IlW",
    "outputId": "5544cd54-d91a-49f0-a4c8-89c4f771c705"
   },
   "outputs": [],
   "source": [
    "from google.colab import files\n",
    "uploaded = files.upload()\n",
    "\n"
   ]
  },
  {
   "cell_type": "code",
   "execution_count": null,
   "metadata": {
    "colab": {
     "base_uri": "https://localhost:8080/",
     "height": 423
    },
    "collapsed": true,
    "id": "6NfXK81M-c9w",
    "outputId": "3093e2cb-d6ae-4689-ef27-ce2ca943f3ae"
   },
   "outputs": [],
   "source": [
    "import pandas as pd\n",
    "import numpy as np\n",
    "import matplotlib.pyplot as plt\n",
    "from sklearn.model_selection import train_test_split\n",
    "from sklearn.neighbors import KNeighborsClassifier\n",
    "from sklearn.metrics import confusion_matrix, accuracy_score, classification_report\n",
    "from sklearn.preprocessing import MinMaxScaler\n",
    "import seaborn as sns\n",
    "\n",
    "df = pd.read_csv('drug200.csv')\n",
    "df"
   ]
  },
  {
   "cell_type": "code",
   "execution_count": null,
   "metadata": {
    "id": "QG7UCAw2L8Yu"
   },
   "outputs": [],
   "source": []
  },
  {
   "cell_type": "markdown",
   "metadata": {
    "id": "qGsjm9vtCq3T"
   },
   "source": [
    "1.data understanding\n"
   ]
  },
  {
   "cell_type": "code",
   "execution_count": null,
   "metadata": {
    "colab": {
     "base_uri": "https://localhost:8080/"
    },
    "id": "4w6gYsdXCyQn",
    "outputId": "79d63281-c966-4980-8370-3f6a98b81426"
   },
   "outputs": [],
   "source": [
    "print(\"data shape : \", df.shape)\n"
   ]
  },
  {
   "cell_type": "code",
   "execution_count": null,
   "metadata": {
    "colab": {
     "base_uri": "https://localhost:8080/"
    },
    "id": "LXuTYMvsDUQa",
    "outputId": "6a26f191-b4f4-40a0-e502-a61a539bf80b"
   },
   "outputs": [],
   "source": [
    "df.info()"
   ]
  },
  {
   "cell_type": "code",
   "execution_count": null,
   "metadata": {
    "colab": {
     "base_uri": "https://localhost:8080/",
     "height": 300
    },
    "id": "UhbtlRzYDm3C",
    "outputId": "0c83945f-b216-47f4-eb59-2a299a057e18"
   },
   "outputs": [],
   "source": [
    "df.describe()"
   ]
  },
  {
   "cell_type": "code",
   "execution_count": null,
   "metadata": {
    "colab": {
     "base_uri": "https://localhost:8080/",
     "height": 272
    },
    "id": "LCLSU7-4EBth",
    "outputId": "c8539e34-02bd-44d7-8d8b-241a6a67a83e"
   },
   "outputs": [],
   "source": [
    "df.Drug.value_counts()"
   ]
  },
  {
   "cell_type": "code",
   "execution_count": null,
   "metadata": {
    "colab": {
     "base_uri": "https://localhost:8080/",
     "height": 178
    },
    "id": "Sm8dz87AE37Z",
    "outputId": "45c78966-aa6f-4d1f-ea61-9d3b035dd505"
   },
   "outputs": [],
   "source": [
    "df.Sex.value_counts()"
   ]
  },
  {
   "cell_type": "code",
   "execution_count": null,
   "metadata": {
    "colab": {
     "base_uri": "https://localhost:8080/",
     "height": 467
    },
    "id": "iX4GRrvXFQgJ",
    "outputId": "6a9664a9-f61c-4433-b1ef-9bae336a656e"
   },
   "outputs": [],
   "source": [
    "  sns.histplot(df[ 'Age' ])"
   ]
  },
  {
   "cell_type": "markdown",
   "metadata": {
    "id": "xBGF7VtAF8n3"
   },
   "source": [
    "2.cleaning data\n"
   ]
  },
  {
   "cell_type": "code",
   "execution_count": null,
   "metadata": {
    "colab": {
     "base_uri": "https://localhost:8080/",
     "height": 272
    },
    "id": "0SL5BojTGLzV",
    "outputId": "4fa01f0d-853a-4912-cef0-d3f5240c26f0"
   },
   "outputs": [],
   "source": [
    "df.isnull().sum()"
   ]
  },
  {
   "cell_type": "code",
   "execution_count": null,
   "metadata": {
    "colab": {
     "base_uri": "https://localhost:8080/"
    },
    "id": "1E_dl6WHGYk0",
    "outputId": "65c6d651-c444-4bec-f613-941b6a9bf782"
   },
   "outputs": [],
   "source": [
    "df.duplicated().sum()"
   ]
  },
  {
   "cell_type": "code",
   "execution_count": null,
   "metadata": {
    "colab": {
     "base_uri": "https://localhost:8080/"
    },
    "collapsed": true,
    "id": "2CuA-1knMC8z",
    "outputId": "1d29c0c6-3327-4041-d8c3-6bbda245d953"
   },
   "outputs": [],
   "source": [
    "!pip install seaborn\n"
   ]
  },
  {
   "cell_type": "markdown",
   "metadata": {
    "id": "etHK5WvpMPs3"
   },
   "source": [
    "3.ekplorasi data analisis"
   ]
  },
  {
   "cell_type": "code",
   "execution_count": null,
   "metadata": {
    "colab": {
     "base_uri": "https://localhost:8080/",
     "height": 569
    },
    "id": "-V_cIPevMUfA",
    "outputId": "1393a26f-89b6-43bc-a70c-f8df9dc3ace9"
   },
   "outputs": [],
   "source": [
    "sns.set_theme(style='ticks')\n",
    "sns.countplot(y='Drug', data=df, palette='flare')\n",
    "plt.ylabel(\"jenis obat\")\n",
    "plt.xlabel(\"jumlah\")\n",
    "plt.show()"
   ]
  },
  {
   "cell_type": "code",
   "execution_count": null,
   "metadata": {
    "colab": {
     "base_uri": "https://localhost:8080/",
     "height": 569
    },
    "id": "8TLvOXbMMHxB",
    "outputId": "7beefe5b-290b-432d-c526-640aa963110d"
   },
   "outputs": [],
   "source": [
    "sns.set_theme(style='darkgrid')\n",
    "sns.countplot(x='Sex', data=df, palette='rocket')\n",
    "plt.ylabel(\"jumlah\")\n",
    "plt.xlabel('jenis kelamin (M=Female, M=Male)')\n",
    "plt.show()"
   ]
  },
  {
   "cell_type": "markdown",
   "metadata": {
    "id": "aOE3X8g4PCko"
   },
   "source": [
    "4.data preperation"
   ]
  },
  {
   "cell_type": "code",
   "execution_count": null,
   "metadata": {
    "colab": {
     "base_uri": "https://localhost:8080/",
     "height": 206
    },
    "id": "MLbASYLMPHUL",
    "outputId": "42d1be57-9719-42e3-a228-7b90e6f00c30"
   },
   "outputs": [],
   "source": [
    "df.head()"
   ]
  },
  {
   "cell_type": "code",
   "execution_count": null,
   "metadata": {
    "id": "CrOu1PdHPhDS"
   },
   "outputs": [],
   "source": [
    "from sklearn.preprocessing import LabelEncoder\n",
    "\n",
    "label_encoder = LabelEncoder()\n",
    "\n",
    "df['Sex'] = label_encoder.fit_transform(df['Sex'])\n",
    "df['BP'] = label_encoder.fit_transform(df['BP'])\n",
    "df['Cholesterol'] = label_encoder.fit_transform(df['Cholesterol'])\n",
    "df['Drug'] = label_encoder.fit_transform(df['Drug'])"
   ]
  },
  {
   "cell_type": "code",
   "execution_count": null,
   "metadata": {
    "colab": {
     "base_uri": "https://localhost:8080/",
     "height": 206
    },
    "id": "rYoWX9jTQjyu",
    "outputId": "cf43c562-55aa-47ff-f764-acf140be506d"
   },
   "outputs": [],
   "source": [
    "df.head()"
   ]
  },
  {
   "cell_type": "code",
   "execution_count": null,
   "metadata": {
    "colab": {
     "base_uri": "https://localhost:8080/"
    },
    "id": "hQhYL9OVRfNB",
    "outputId": "068f799d-887f-40d2-9962-8e7c50c9459e"
   },
   "outputs": [],
   "source": [
    "x = df.drop(columns = ['Drug'])\n",
    "y = df['Drug']\n",
    "\n",
    "print(\"x :\", x.shape)\n",
    "print(\"y :\", y.shape)"
   ]
  },
  {
   "cell_type": "code",
   "execution_count": null,
   "metadata": {
    "id": "Pf2jtp6ySOOs"
   },
   "outputs": [],
   "source": [
    "x_train, x_test, y_train, y_test = train_test_split(x, y, test_size=0.2, random_state=42)"
   ]
  },
  {
   "cell_type": "code",
   "execution_count": null,
   "metadata": {
    "colab": {
     "base_uri": "https://localhost:8080/"
    },
    "id": "F5FLbvNhSoX9",
    "outputId": "8ef9bbed-2c6a-4c84-80b0-c816203cd98b"
   },
   "outputs": [],
   "source": [
    "print(f\"x_train : {x_train.shape}\")\n",
    "print(f\"x_test : {x_test.shape}\")\n",
    "print(f\"y_train : {y_train.shape}\")\n",
    "print(f\"y_test : {y_test.shape}\")"
   ]
  },
  {
   "cell_type": "code",
   "execution_count": null,
   "metadata": {
    "id": "6PUcfBzTTxE9"
   },
   "outputs": [],
   "source": []
  },
  {
   "cell_type": "markdown",
   "metadata": {
    "id": "Gcoj1hiDTzBj"
   },
   "source": [
    "5.modeling\n"
   ]
  },
  {
   "cell_type": "code",
   "execution_count": null,
   "metadata": {
    "colab": {
     "base_uri": "https://localhost:8080/"
    },
    "id": "GLxxI8GeT2T6",
    "outputId": "57cb53eb-82c6-4592-97c8-574309c550ad"
   },
   "outputs": [],
   "source": [
    "knn = KNeighborsClassifier(n_neighbors=3)\n",
    "knn.fit(x_train, y_train)\n",
    "\n",
    "y_pred = knn.predict(x_test)\n",
    "KNN_acc = accuracy_score(y_test, y_pred)\n",
    "\n",
    "print(classification_report(y_test, y_pred))\n",
    "print(\"KNN Accurac : {:.2f}%\".format(KNN_acc*100))"
   ]
  },
  {
   "cell_type": "code",
   "execution_count": null,
   "metadata": {
    "colab": {
     "base_uri": "https://localhost:8080/",
     "height": 89
    },
    "id": "jxhWxIfRVRtc",
    "outputId": "28155e99-1b6a-4dfc-d5c6-7dc2df3b9f50"
   },
   "outputs": [],
   "source": [
    "testing = {'Age':[35],\n",
    "          'Sex': [1],\n",
    "          'BP' : [2],\n",
    "          'Cholesterol': [0],\n",
    "          'Na_to_K': [4.5]}\n",
    "\n",
    "testing = pd.DataFrame(testing)\n",
    "testing"
   ]
  },
  {
   "cell_type": "code",
   "execution_count": null,
   "metadata": {
    "id": "yBgXXa8ZYPlh"
   },
   "outputs": [],
   "source": []
  },
  {
   "cell_type": "code",
   "execution_count": null,
   "metadata": {
    "colab": {
     "base_uri": "https://localhost:8080/"
    },
    "id": "_Vz85DDMYfs1",
    "outputId": "40209f6c-5196-46ab-a268-3e1aa842b627"
   },
   "outputs": [],
   "source": [
    "pred_coba = knn.predict(testing)\n",
    "print(\"Hasil prediksi dari pasien baru\")\n",
    "print(pred_coba)"
   ]
  }
 ],
 "metadata": {
  "colab": {
   "provenance": []
  },
  "kernelspec": {
   "display_name": "Python 3",
   "name": "python3"
  },
  "language_info": {
   "codemirror_mode": {
    "name": "ipython",
    "version": 3
   },
   "file_extension": ".py",
   "mimetype": "text/x-python",
   "name": "python",
   "nbconvert_exporter": "python",
   "pygments_lexer": "ipython3",
   "version": "3.12.6"
  }
 },
 "nbformat": 4,
 "nbformat_minor": 0
}
